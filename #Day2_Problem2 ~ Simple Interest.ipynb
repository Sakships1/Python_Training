{
 "cells": [
  {
   "cell_type": "code",
   "execution_count": 12,
   "metadata": {},
   "outputs": [
    {
     "name": "stdout",
     "output_type": "stream",
     "text": [
      "Enter the Principal Amount(P):3\n",
      "Enter the rate of Interest(R):2\n",
      "Enter the time period(T):18\n",
      "5.4 is the simple interest when time period is greater than 12\n"
     ]
    }
   ],
   "source": [
    "p2.Program to find the simple interest based upon number of years. If number of years is more than 12 rate\n",
    "of interest is 10 otherwise 15.\n",
    "\n",
    "P=float(input(\"Enter the Principal Amount(P):\"))\n",
    "R=float(input(\"Enter the rate of Interest(R):\"))\n",
    "T=float(input(\"Enter the time period(T):\"))\n",
    "if(T>12):\n",
    "    SI=(P*10*T)*0.01\n",
    "    print(SI, \"is the simple interest when time period is greater than 12\")\n",
    "else:\n",
    "    SI=(P*15*T)*0.01\n",
    "    print(SI, \"is the simple interest when time period is less than 12\")"
   ]
  },
  {
   "cell_type": "code",
   "execution_count": null,
   "metadata": {},
   "outputs": [],
   "source": []
  },
  {
   "cell_type": "code",
   "execution_count": null,
   "metadata": {},
   "outputs": [],
   "source": []
  }
 ],
 "metadata": {
  "kernelspec": {
   "display_name": "Python 3",
   "language": "python",
   "name": "python3"
  },
  "language_info": {
   "codemirror_mode": {
    "name": "ipython",
    "version": 3
   },
   "file_extension": ".py",
   "mimetype": "text/x-python",
   "name": "python",
   "nbconvert_exporter": "python",
   "pygments_lexer": "ipython3",
   "version": "3.7.4"
  }
 },
 "nbformat": 4,
 "nbformat_minor": 2
}
