{
 "cells": [
  {
   "cell_type": "code",
   "execution_count": null,
   "metadata": {},
   "outputs": [
    {
     "name": "stdout",
     "output_type": "stream",
     "text": [
      "a. Area of square\n",
      "b. Area of rectangle\n",
      "c. Area of triangle\n",
      "\n",
      "Enter the number of choice you would like to proceed with:c\n",
      "\n",
      "Enter the length of 1st side:3\n",
      "Enter the length of 2nd side:4\n",
      "Enter the length of 3rd side:5\n",
      "\n",
      "6.0 is the area of triangle.\n",
      "\n"
     ]
    }
   ],
   "source": [
    "#problem1: Write a program to input any choice and to implement the following.Choice Find using if else\n",
    "a). Area of square\n",
    "b). Area of rectangle\n",
    "c). Area of triangle\n",
    "\n",
    "choice=\"Yes\"\n",
    "while choice==\"Yes\":\n",
    "    print(\"a. Area of square\")\n",
    "    print(\"b. Area of rectangle\")\n",
    "    print(\"c. Area of triangle\")\n",
    "    print()\n",
    "    Option=input(\"Enter the number of choice you would like to proceed with:\")\n",
    "    print()\n",
    "    if Option ==\"a\":\n",
    "        s=float(input(\"Enter the length of side:\"))\n",
    "        area=s*s\n",
    "        print()\n",
    "        print(area, \"is the area of Square.\")\n",
    "    elif Option ==\"b\":\n",
    "        l=float(input(\"Enter the length:\"))\n",
    "        b=float(input(\"Enter the breadth:\"))\n",
    "        area=l*b\n",
    "        print()\n",
    "        print(area, \"is the area of rectangle.\")\n",
    "    elif Option ==\"c\":\n",
    "        a=float(input(\"Enter the length of 1st side:\"))\n",
    "        b=float(input(\"Enter the length of 2nd side:\"))\n",
    "        c=float(input(\"Enter the length of 3rd side:\"))\n",
    "        s=(a+b+c)/2\n",
    "        area=(s*(s-a)*(s-b)*(s-c))**0.5\n",
    "        print()\n",
    "        print(area, \"is the area of triangle.\")\n",
    "    print()\n",
    "    choice=input(\"Would you like to go again?[yes/No]:\")\n",
    "    print()"
   ]
  },
  {
   "cell_type": "code",
   "execution_count": null,
   "metadata": {},
   "outputs": [],
   "source": []
  },
  {
   "cell_type": "code",
   "execution_count": null,
   "metadata": {},
   "outputs": [],
   "source": []
  }
 ],
 "metadata": {
  "kernelspec": {
   "display_name": "Python 3",
   "language": "python",
   "name": "python3"
  },
  "language_info": {
   "codemirror_mode": {
    "name": "ipython",
    "version": 3
   },
   "file_extension": ".py",
   "mimetype": "text/x-python",
   "name": "python",
   "nbconvert_exporter": "python",
   "pygments_lexer": "ipython3",
   "version": "3.7.4"
  }
 },
 "nbformat": 4,
 "nbformat_minor": 2
}
