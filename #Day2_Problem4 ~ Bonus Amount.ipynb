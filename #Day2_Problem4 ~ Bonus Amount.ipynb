{
 "cells": [
  {
   "cell_type": "code",
   "execution_count": 10,
   "metadata": {},
   "outputs": [
    {
     "name": "stdout",
     "output_type": "stream",
     "text": [
      "Enter your salary:60000\n",
      "Enter Years of service:8\n",
      "Total Bonus is 3000.0\n"
     ]
    }
   ],
   "source": [
    "# problem4.A company decided to give bonus of 5% to employee if his/her year of service is more than 5 years.\n",
    "#Ask user for their salary and year of service and print the net bonus amount.\n",
    "\n",
    "salary = float(input(\"Enter your salary:\"))\n",
    "\n",
    "service_yrs = float(input(\"Enter Years of service:\"))\n",
    "\n",
    "if service_yrs > 5:\n",
    "\n",
    "    print(\"Total Bonus is\",.05*salary)\n",
    "\n",
    "else:\n",
    "\n",
    "     print(\"You are not eligible for bonus as you have less service years.\")"
   ]
  },
  {
   "cell_type": "code",
   "execution_count": null,
   "metadata": {},
   "outputs": [],
   "source": []
  },
  {
   "cell_type": "code",
   "execution_count": null,
   "metadata": {},
   "outputs": [],
   "source": []
  }
 ],
 "metadata": {
  "kernelspec": {
   "display_name": "Python 3",
   "language": "python",
   "name": "python3"
  },
  "language_info": {
   "codemirror_mode": {
    "name": "ipython",
    "version": 3
   },
   "file_extension": ".py",
   "mimetype": "text/x-python",
   "name": "python",
   "nbconvert_exporter": "python",
   "pygments_lexer": "ipython3",
   "version": "3.7.4"
  }
 },
 "nbformat": 4,
 "nbformat_minor": 2
}
