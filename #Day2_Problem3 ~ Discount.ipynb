{
 "cells": [
  {
   "cell_type": "code",
   "execution_count": 15,
   "metadata": {},
   "outputs": [
    {
     "name": "stdout",
     "output_type": "stream",
     "text": [
      "Enter the cost of first item:1000\n",
      "Enter the cost of second item:2000\n",
      "Enter the cost of third item:3000\n",
      "Enter the cost of fourth item:4000\n",
      "Enter the cost of fifth item:5000\n",
      "15000 is the total cost of 5 item\n",
      "Discount :  1500.0\n",
      "Net Pay  :  13500.0\n"
     ]
    }
   ],
   "source": [
    "# Problem3:  WAP enter 5 item cost if sum of 5 item cost is >=5000 then gives 10 % discount and display total\n",
    "# amount paid else 5 % discount.\n",
    "# If else problem\n",
    "\n",
    "a= int(input(\"Enter the cost of first item:\"))\n",
    "b= int(input(\"Enter the cost of second item:\"))\n",
    "c= int(input(\"Enter the cost of third item:\"))\n",
    "d= int(input(\"Enter the cost of fourth item:\"))\n",
    "e= int(input(\"Enter the cost of fifth item:\"))\n",
    "Total_amt = a+b+c+d+e\n",
    "print(Total_amt, \"is the total cost of 5 item\")\n",
    "\n",
    "# checking conditions and calculating discount\n",
    "if(Total_amt>0):\n",
    "    if Total_amt>=5000:\n",
    "        disc = 0.1*Total_amt\n",
    "    else:\n",
    "        disc=Total_amt*0.05\n",
    "        \n",
    "    print(\"Discount : \",disc)\n",
    "    print(\"Net Pay  : \",Total_amt-disc)   \n",
    "else:\n",
    "    print(\"Invalid Amount\")"
   ]
  },
  {
   "cell_type": "code",
   "execution_count": null,
   "metadata": {},
   "outputs": [],
   "source": []
  }
 ],
 "metadata": {
  "kernelspec": {
   "display_name": "Python 3",
   "language": "python",
   "name": "python3"
  },
  "language_info": {
   "codemirror_mode": {
    "name": "ipython",
    "version": 3
   },
   "file_extension": ".py",
   "mimetype": "text/x-python",
   "name": "python",
   "nbconvert_exporter": "python",
   "pygments_lexer": "ipython3",
   "version": "3.7.4"
  }
 },
 "nbformat": 4,
 "nbformat_minor": 2
}
